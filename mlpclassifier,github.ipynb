{
  "cells": [
    {
      "cell_type": "markdown",
      "metadata": {
        "id": "1oRrHovJ8pe-"
      },
      "source": [
        " Evaluation and selection of decision models\n"
      ],
      "id": "1oRrHovJ8pe-"
    },
    {
      "cell_type": "code",
      "execution_count": null,
      "metadata": {
        "hide-output": false,
        "id": "N2C8mshz8pe_"
      },
      "outputs": [],
      "source": [
        "# importing librarie\n",
        "import numpy as np\n",
        "import matplotlib.pyplot as plt\n",
        "import sklearn\n",
        "import pandas as pd\n",
        "\n",
        "# loading the Iris dataset\n",
        "from sklearn import datasets\n",
        "iris = datasets.load_iris()\n",
        "data, labels = iris.data, iris.target\n",
        "\n",
        "# initial splitting into training data and test data\n",
        "from sklearn.model_selection import train_test_split\n",
        "X_train, X_test, y_train, y_test = train_test_split(data, labels, test_size=0.5)"
      ],
      "id": "N2C8mshz8pe_"
    },
    {
      "cell_type": "code",
      "source": [
        "d=pd.DataFrame(labels)\n",
        "d.value_counts()"
      ],
      "metadata": {
        "colab": {
          "base_uri": "https://localhost:8080/"
        },
        "id": "v_E0ti6PwenH",
        "outputId": "6bdc5cc4-373f-4b04-81c3-51be64924e86"
      },
      "id": "v_E0ti6PwenH",
      "execution_count": null,
      "outputs": [
        {
          "output_type": "execute_result",
          "data": {
            "text/plain": [
              "0    50\n",
              "1    50\n",
              "2    50\n",
              "dtype: int64"
            ]
          },
          "metadata": {},
          "execution_count": 179
        }
      ]
    },
    {
      "cell_type": "markdown",
      "metadata": {
        "id": "EFzkvPN58pfB"
      },
      "source": [
        "The train_test_split function of scikit-learn allows us to randomly split the dataset into two partitions train (learning) and test (evaluation) according to arbitrary proportions.\n",
        "\n",
        "As usual, it is interesting to visualize the data available to us. We can construct the scatter plots in two dimensions using Matplotlib:"
      ],
      "id": "EFzkvPN58pfB"
    },
    {
      "cell_type": "code",
      "execution_count": null,
      "metadata": {
        "hide-output": false,
        "id": "cxfmPUfu8pfG"
      },
      "outputs": [],
      "source": [
        "# Using MLP\n",
        "from sklearn.neural_network import MLPClassifier\n",
        "clf = MLPClassifier(solver='lbfgs', alpha=1, tol=5e-3)"
      ],
      "id": "cxfmPUfu8pfG"
    },
    {
      "cell_type": "markdown",
      "metadata": {
        "id": "ONRzrpOs8pfH"
      },
      "source": [
        "To estimate generalization error, we will use K-fold cross-validation. This will allow us to adjust, if necessary, the hyperparameters of the decision model. scikit-learn implements various cross-validation strategies in the sklearn.model_selection module. Let start by experimenting with the K-fold approach. The KFold object has a .split() method that generates lists of observation indices to be used for the training subset and for the validation subset. More details on this object can be found in the [K-Fold documentation](https://scikit-learn.org/stable/modules/generated/sklearn.model_selection.KFold.html)."
      ],
      "id": "ONRzrpOs8pfH"
    },
    {
      "cell_type": "code",
      "execution_count": null,
      "metadata": {
        "hide-output": false,
        "colab": {
          "base_uri": "https://localhost:8080/",
          "height": 407
        },
        "id": "RDyak3dC8pfJ",
        "outputId": "d9055d99-3ba5-444e-b205-a0c75d02a0e1"
      },
      "outputs": [
        {
          "output_type": "display_data",
          "data": {
            "text/plain": [
              "<Figure size 576x432 with 1 Axes>"
            ],
            "image/png": "[encoded data removed]"
          },
          "metadata": {
            "needs_background": "light"
          }
        }
      ],
      "source": [
        "# KFold for different values of k\n",
        "from sklearn.model_selection import KFold\n",
        "\n",
        "# values of k\n",
        "n_folds = np.array([2, 3, 5, 7, 10, 13, 16, 20])\n",
        "\n",
        "# preparing lists to store results\n",
        "cv_scores = []\n",
        "cv_scores_std = []\n",
        "\n",
        "for k in n_folds:    # for each value of k\n",
        "    kf = KFold(n_splits=k)\n",
        "    scores = []\n",
        "    # learning then evaluating a model on each split\n",
        "    for train_idx, val_idx in kf.split(X_train):\n",
        "        # learning with .fit()\n",
        "        clf.fit(X_train[train_idx], y_train[train_idx])\n",
        "        scores.append(clf.score(X_train[val_idx], y_train[val_idx]))\n",
        "    # computation of the mean and standard deviation of the obtained performances \n",
        "    cv_scores.append(np.mean(scores))\n",
        "    cv_scores_std.append(np.std(scores))\n",
        "\n",
        "cv_scores, cv_scores_std = np.array(cv_scores), np.array(cv_scores_std)\n",
        "\n",
        "# display average performance +- 1 standard deviation for each k\n",
        "plt.figure(figsize=(8, 6))\n",
        "plt.plot(n_folds, cv_scores, 'b')\n",
        "plt.fill_between(n_folds, cv_scores + cv_scores_std, cv_scores - cv_scores_std,\n",
        "                 alpha=0.5)\n",
        "plt.xlabel(\"Value of $k$ of K-Fold\")\n",
        "plt.ylabel(\"Average Score\")\n",
        "plt.xlim(2, max(n_folds))\n",
        "plt.xticks(n_folds)\n",
        "plt.title(\"Generalization error estimated as a function of $k$\")\n",
        "plt.show()"
      ],
      "id": "RDyak3dC8pfJ"
    },
    {
      "cell_type": "code",
      "source": [
        "np.mean(cv_scores)"
      ],
      "metadata": {
        "colab": {
          "base_uri": "https://localhost:8080/"
        },
        "id": "L9OrTENK-SwY",
        "outputId": "96734686-ad41-49dc-d1f4-c75e1da534c0"
      },
      "id": "L9OrTENK-SwY",
      "execution_count": null,
      "outputs": [
        {
          "output_type": "execute_result",
          "data": {
            "text/plain": [
              "0.9629312573391521"
            ]
          },
          "metadata": {},
          "execution_count": 203
        }
      ]
    },
    {
      "cell_type": "code",
      "source": [
        "cv_scores,cv_scores_std"
      ],
      "metadata": {
        "colab": {
          "base_uri": "https://localhost:8080/"
        },
        "id": "Hj0ZepjG7y9I",
        "outputId": "cc833a41-16f2-4f23-93b8-ab7b2463f5b3"
      },
      "id": "Hj0ZepjG7y9I",
      "execution_count": null,
      "outputs": [
        {
          "output_type": "execute_result",
          "data": {
            "text/plain": [
              "(array([0.96052632, 0.96      , 0.97333333, 0.94805195, 0.975     ,\n",
              "        0.96153846, 0.9625    , 0.9625    ]),\n",
              " array([0.03947368, 0.03265986, 0.05333333, 0.08213708, 0.05      ,\n",
              "        0.09593993, 0.10532687, 0.08926786]))"
            ]
          },
          "metadata": {},
          "execution_count": 204
        }
      ]
    },
    {
      "cell_type": "markdown",
      "source": [
        "Adding values for k (eg 40, 100, be careful it will take longer…) and examine the graph again.**"
      ],
      "metadata": {
        "id": "cEia-aI9TATZ"
      },
      "id": "cEia-aI9TATZ"
    },
    {
      "cell_type": "code",
      "source": [
        "# KFold for different values of k\n",
        "from sklearn.model_selection import KFold\n",
        "\n",
        "# values of k\n",
        "n_folds = np.array([2,3, 5, 7, 10, 13,20,30, 40,60,75])\n",
        "\n",
        "# preparing lists to store results\n",
        "cv_scores = []\n",
        "cv_scores_std = []\n",
        "\n",
        "for k in n_folds:    # for each value of k\n",
        "    kf = KFold(n_splits=k)\n",
        "    scores = []\n",
        "    \n",
        "    # learning then evaluating a model on each split\n",
        "    for train_idx, val_idx in kf.split(X_train):\n",
        "      # learning with .fit()\n",
        "      clf.fit(X_train[train_idx], y_train[train_idx])\n",
        "      scores.append(clf.score(X_train[val_idx], y_train[val_idx]))\n",
        "    # computation of the mean and standard deviation of the obtained performances \n",
        "    cv_scores.append(np.mean(scores))\n",
        "    cv_scores_std.append(np.std(scores))\n",
        "\n",
        "cv_scores, cv_scores_std = np.array(cv_scores), np.array(cv_scores_std)\n",
        "\n",
        "# display average performance +- 1 standard deviation for each k\n",
        "plt.figure(figsize=(8, 6))\n",
        "plt.plot(n_folds, cv_scores, 'b')\n",
        "plt.fill_between(n_folds, cv_scores + cv_scores_std, cv_scores - cv_scores_std,\n",
        "                 alpha=0.5)\n",
        "plt.xlabel(\"Value of $k$ of K-Fold\")\n",
        "plt.ylabel(\"Average Score\")\n",
        "plt.xlim(2, max(n_folds))\n",
        "plt.xticks(n_folds)\n",
        "plt.title(\"Generalization error estimated as a function of $k$\")"
      ],
      "metadata": {
        "colab": {
          "base_uri": "https://localhost:8080/",
          "height": 424
        },
        "id": "VhF4Jm0TbTPW",
        "outputId": "cec6572e-e28f-4c5c-f618-6449715361a5"
      },
      "id": "VhF4Jm0TbTPW",
      "execution_count": null,
      "outputs": [
        {
          "output_type": "execute_result",
          "data": {
            "text/plain": [
              "Text(0.5, 1.0, 'Generalization error estimated as a function of $k$')"
            ]
          },
          "metadata": {},
          "execution_count": 205
        },
        {
          "output_type": "display_data",
          "data": {
            "text/plain": [
              "<Figure size 576x432 with 1 Axes>"
            ],
            "image/png": "[encoded data removed]"
          },
          "metadata": {
            "needs_background": "light"
          }
        }
      ]
    },
    {
      "cell_type": "markdown",
      "source": [
        "The above plot shows that when we increase **k** from 2 to 10, the average score grows from 0.955 to 0.975, but after that, by boosting k, the average score will be approximately constant or decrease.  \n",
        "Also after adding some values for k it obviously ilustrates that by the more increase in k not only the average score dosnt increse but also it decrese. \n",
        "More importantly, the more increse in k lead to pose excessive cost to model and the model becomes more computationally expensive.  "
      ],
      "metadata": {
        "id": "CbDSlMq7iEIF"
      },
      "id": "CbDSlMq7iEIF"
    },
    {
      "cell_type": "code",
      "source": [
        "\"\"\"For each model learned by k-fold cross-validation, add its \n",
        "evaluation on the test data set aside at the start X_test, y_test.\"\"\"\n"
      ],
      "metadata": {
        "id": "fVnT1NQ2ksqV"
      },
      "id": "fVnT1NQ2ksqV",
      "execution_count": null,
      "outputs": []
    },
    {
      "cell_type": "code",
      "source": [
        "# KFold for different values of k\n",
        "from sklearn.model_selection import KFold\n",
        "\n",
        "# values of k\n",
        "n_folds = np.array([2,3, 5, 7, 10, 13,20,30, 40,60,75])\n",
        "\n",
        "# preparing lists to store results\n",
        "cv_scores = []\n",
        "cv_test_scores=[]\n",
        "cv_scores_std = []\n",
        "cv_test_scores_std=[]\n",
        "\n",
        "for k in n_folds:    # for each value of k\n",
        "    kf = KFold(n_splits=k)\n",
        "    scores = []\n",
        "    test_scores=[]\n",
        "    # learning then evaluating a model on each split\n",
        "    for train_idx, val_idx in kf.split(X_train):\n",
        "        # learning with .fit()\n",
        "        clf.fit(X_train[train_idx], y_train[train_idx])\n",
        "        scores.append(clf.score(X_train[val_idx], y_train[val_idx]))\n",
        "\n",
        "        test_scores.append(clf.score(X_test, y_test))\n",
        "    # computation of the mean and standard deviation of the obtained performances \n",
        "    cv_scores.append(np.mean(scores))\n",
        "    cv_test_scores.append(np.mean(test_scores))\n",
        "    cv_scores_std.append(np.std(scores))\n",
        "    cv_test_scores_std.append(np.std(test_scores))\n",
        "\n",
        "cv_scores, cv_scores_std = np.array(cv_scores), np.array(cv_scores_std)\n",
        "cv_test_scores,cv_test_scores_std=np.array(cv_test_scores), \n",
        "np.array(cv_test_scores_std)\n",
        "\n",
        "# display average performance +- 1 standard deviation for each k\n",
        "plt.figure(figsize=(10, 8))\n",
        "ax1, =plt.plot(n_folds, cv_scores, 'b', label=\"Train Score\")\n",
        "plt.fill_between(n_folds, cv_scores + cv_scores_std, cv_scores - cv_scores_std,\n",
        "                 alpha=0.5)\n",
        "\n",
        "ax2, =plt.plot(n_folds, cv_test_scores, 'g',label=\"Test Score\")\n",
        "plt.fill_between(n_folds, cv_test_scores + cv_test_scores_std, cv_test_scores -\n",
        "                 cv_test_scores_std, alpha=0.5)\n",
        "\n",
        "plt.xlabel(\"Value of $k$ of K-Fold\")\n",
        "plt.ylabel(\"Average Score\")\n",
        "plt.xlim(2, max(n_folds))\n",
        "plt.xticks(n_folds)\n",
        "plt.title(\"Generalization error estimated as a function of $k$\")\n",
        "plt.legend([ax1,ax2])\n",
        "plt.show()\n",
        "\n"
      ],
      "metadata": {
        "colab": {
          "base_uri": "https://localhost:8080/",
          "height": 516
        },
        "id": "6g6s4z7xVQIX",
        "outputId": "c4e98777-8ce4-474f-ba86-dfb769ea3bd7"
      },
      "id": "6g6s4z7xVQIX",
      "execution_count": null,
      "outputs": [
        {
          "output_type": "display_data",
          "data": {
            "text/plain": [
              "<Figure size 720x576 with 1 Axes>"
            ],
            "image/png": "[encoded data removed]"
          },
          "metadata": {
            "needs_background": "light"
          }
        }
      ]
    },
    {
      "cell_type": "code",
      "source": [
        "print(f\"cv_scores is : {cv_scores} and cv_scores_std is : {cv_scores_std} and \n",
        "mean of cv_scores is: {np.mean(cv_scores)}  \")\n",
        "print(f\"cv_test_scores is : {cv_test_scores} and cv_test_scores_std is : \n",
        "{cv_test_scores_std} and mean of cv_test_scores is: {np.mean(cv_test_scores)} \")"
      ],
      "metadata": {
        "colab": {
          "base_uri": "https://localhost:8080/"
        },
        "id": "KTUw0PtRdsn-",
        "outputId": "941de376-ff13-411f-a82a-558e75e88108"
      },
      "id": "KTUw0PtRdsn-",
      "execution_count": null,
      "outputs": [
        {
          "output_type": "stream",
          "name": "stdout",
          "text": [
            "cv_scores is : [0.9601707  0.96       0.97333333 0.95974026 0.96071429 0.95897436\n",
            " 0.97083333 0.96111111 0.9625     0.96666667 0.96      ] and cv_scores_std is : [0.01280228 0.03265986 0.03265986 0.06730732 0.08214286 0.07528163\n",
            " 0.0884865  0.11928284 0.13169567 0.15456031 0.19595918] and mean of cv_scores is: 0.9630949132623773  \n",
            "cv_test_scores is : [0.98       0.97777778 0.98133333 0.9752381  0.972      0.96820513\n",
            " 0.97133333 0.97066667 0.97066667 0.97088889 0.9712    ] and cv_test_scores_std is : [0.02       0.01257079 0.01808621 0.01660533 0.0110755  0.01114131\n",
            " 0.0087178  0.00936503 0.0095219  0.00860376 0.00815843] and mean of cv_test_scores is: 0.9735736263736263 \n"
          ]
        }
      ]
    },
    {
      "cell_type": "markdown",
      "source": [
        "# **the plot shows that evaluation on the test data set has the same trend compare to train data but the fluctuation of the score in test data is less than train data. Also the score of the test data is more than train data acccoeding above cell mean of cv_scores is: 0.963 while mean of cv_test_scores is: 0.973.**\n"
      ],
      "metadata": {
        "id": "sDHt9NmtufAd"
      },
      "id": "sDHt9NmtufAd"
    },
    {
      "cell_type": "markdown",
      "source": [
        "#\"\"\" Perform performance estimation using leave one out (LOO) cross-validation\"\"\""
      ],
      "metadata": {
        "id": "oTvAE7Savw5J"
      },
      "id": "oTvAE7Savw5J"
    },
    {
      "cell_type": "code",
      "source": [
        "from sklearn.model_selection import LeaveOneOut\n",
        "from sklearn.model_selection import cross_val_score\n",
        "\n",
        "# values of k\n",
        "\n",
        "# preparing lists to store results\n",
        "cv_scores = []\n",
        "cv_scores_std = []\n",
        "\n",
        "#for k in n_folds:    # for each value of k\n",
        "cv = LeaveOneOut()\n",
        "scores = []\n",
        "    # learning then evaluating a model on each split\n",
        "for train_idx, val_idx in cv.split(X_train):\n",
        "  # learning with .fit()\n",
        "  clf.fit(X_train[train_idx], y_train[train_idx])\n",
        "  scores.append(clf.score(X_train[val_idx], y_train[val_idx]))\n",
        "  \n",
        "\n",
        "cv_scores = np.array(scores)\n",
        "n1 = data.shape[0]\n",
        "n=np.arange(1,n1/2+1)\n",
        "# display average performance +- 1 standard deviation for each k\n",
        "plt.figure(figsize=(16, 10))\n",
        "plt.plot(n, cv_scores, 'b')\n",
        "plt.fill_between(n, cv_scores , alpha=0.5)\n",
        "plt.xlabel(\"Value of $k$ of LeaveOneOut\")\n",
        "plt.ylabel(\"Average Score\")\n",
        "plt.xlim(2, max(n))\n",
        "plt.xticks(n)\n",
        "plt.title(\"Generalization error estimated as a function of $k$\")\n",
        "plt.show()\n",
        "np.mean(scores)\n"
      ],
      "metadata": {
        "colab": {
          "base_uri": "https://localhost:8080/",
          "height": 642
        },
        "id": "BlMEvDEUy9a0",
        "outputId": "fc3ff3bf-5b6a-4d97-bef0-b22e6bdde6ab"
      },
      "id": "BlMEvDEUy9a0",
      "execution_count": null,
      "outputs": [
        {
          "output_type": "display_data",
          "data": {
            "text/plain": [
              "<Figure size 1152x720 with 1 Axes>"
            ],
            "image/png": "[encoded data removed]"
          },
          "metadata": {
            "needs_background": "light"
          }
        },
        {
          "output_type": "execute_result",
          "data": {
            "text/plain": [
              "0.9866666666666667"
            ]
          },
          "metadata": {},
          "execution_count": 40
        }
      ]
    },
    {
      "cell_type": "code",
      "source": [
        "from sklearn.neural_network import MLPClassifier\n",
        "clf = MLPClassifier(solver='lbfgs', alpha=1, tol=5e-3)\n",
        "cv = LeaveOneOut()\n",
        "scores1 = cross_val_score(clf, X_train, y_train,  cv=cv, n_jobs=-1)\n",
        "np.mean(scores1)"
      ],
      "metadata": {
        "colab": {
          "base_uri": "https://localhost:8080/"
        },
        "id": "UmlhTfWRU-4B",
        "outputId": "ea0dfe98-2c05-4bba-bbd2-165726bb7cab"
      },
      "id": "UmlhTfWRU-4B",
      "execution_count": null,
      "outputs": [
        {
          "output_type": "execute_result",
          "data": {
            "text/plain": [
              "0.9866666666666667"
            ]
          },
          "metadata": {},
          "execution_count": 35
        }
      ]
    },
    {
      "cell_type": "code",
      "source": [
        " np.mean(scores)\n"
      ],
      "metadata": {
        "colab": {
          "base_uri": "https://localhost:8080/"
        },
        "id": "poocmK0uk4nh",
        "outputId": "313e7670-d41a-4287-809d-b1a316667c06"
      },
      "id": "poocmK0uk4nh",
      "execution_count": null,
      "outputs": [
        {
          "output_type": "execute_result",
          "data": {
            "text/plain": [
              "0.9866666666666667"
            ]
          },
          "metadata": {},
          "execution_count": 17
        }
      ]
    },
    {
      "cell_type": "markdown",
      "source": [
        "# **according to compar k-fold and  leave one out (LOO) cross-validation:**\n",
        "base on the result the mean of the score of k-fold is 0.96 while it is 0.98 for leave one out (LOO). but leave-one-out cross-validation is more time-consuming and more expensive rather than k-fold since it repeatedly fit a model to a dataset with n-1 observations.\n",
        "\n",
        "totally,\n",
        "advanture of leave-one-out cross-validation:\n",
        "We repeatedly fit a model to a dataset with n-1 observations, which offers a considerably less biased measure of test MSE than using a single test set.\n",
        "Compared to employing a single test set, it tends not to overestimate the test MSE.\n",
        "But leave-one-out cross-validation has the following drawbacks:\n",
        "\n",
        "When n is big, using it can take a lot of time.\n",
        "If a model is especially complicated  it might also be time-consuming.\n",
        "and  while to fit to a dataset, take a long time.\n",
        "It might cost a lot to compute."
      ],
      "metadata": {
        "id": "obFRL9HKuf6r"
      },
      "id": "obFRL9HKuf6r"
    },
    {
      "cell_type": "code",
      "execution_count": null,
      "metadata": {
        "hide-output": false,
        "id": "k5Ouq5qq8pfM"
      },
      "outputs": [],
      "source": [
        "# importing libraries\n",
        "import numpy as np\n",
        "import matplotlib.pyplot as plt\n",
        "\n",
        "# loading iris data\n",
        "from sklearn import datasets\n",
        "data, labels = datasets.load_iris(return_X_y=True)\n",
        "\n",
        "# initial splitting into training data and test data\n",
        "from sklearn.model_selection import train_test_split\n",
        "X_train, X_test, y_train, y_test = train_test_split(data, labels, test_size=0.5)\n",
        "\n",
        "# to use MLP\n",
        "from sklearn.neural_network import MLPClassifier"
      ],
      "id": "k5Ouq5qq8pfM"
    },
    {
      "cell_type": "code",
      "execution_count": null,
      "metadata": {
        "hide-output": false,
        "id": "B3Q71cOU8pfO"
      },
      "outputs": [],
      "source": [
        "from sklearn.model_selection import GridSearchCV"
      ],
      "id": "B3Q71cOU8pfO"
    },
    {
      "cell_type": "code",
      "execution_count": null,
      "metadata": {
        "hide-output": false,
        "id": "vulH1NoQ8pfP"
      },
      "outputs": [],
      "source": [
        "tuned_parameters = {'hidden_layer_sizes':[(5,), (20,), (50,), (100,), (150,), \n",
        "                                          (200,)],\n",
        "                    'alpha':   [0.001, 0.01, 1, 2]}"
      ],
      "id": "vulH1NoQ8pfP"
    },
    {
      "cell_type": "code",
      "execution_count": null,
      "metadata": {
        "hide-output": false,
        "colab": {
          "base_uri": "https://localhost:8080/"
        },
        "id": "3dW_hWIo8pfQ",
        "outputId": "a88b4ddc-a858-45fd-a900-d7b0058598ae"
      },
      "outputs": [
        {
          "output_type": "execute_result",
          "data": {
            "text/plain": [
              "GridSearchCV(cv=5,\n",
              "             estimator=MLPClassifier(random_state=1234, solver='lbfgs',\n",
              "                                     tol=0.005),\n",
              "             param_grid={'alpha': [0.001, 0.01, 1, 2],\n",
              "                         'hidden_layer_sizes': [(5,), (20,), (50,), (100,),\n",
              "                                                (150,), (200,)]})"
            ]
          },
          "metadata": {},
          "execution_count": 65
        }
      ],
      "source": [
        "clf = GridSearchCV(MLPClassifier(solver='lbfgs', tol=5e-3,random_state=1234),\n",
        "                   tuned_parameters,refit=True, cv=5)\n",
        "\n",
        "# grid search execution\n",
        "clf.fit(X_train, y_train)"
      ],
      "id": "3dW_hWIo8pfQ"
    },
    {
      "cell_type": "code",
      "source": [
        "clf.best_estimator_"
      ],
      "metadata": {
        "colab": {
          "base_uri": "https://localhost:8080/"
        },
        "id": "AG-giIac68Wn",
        "outputId": "ea7f2ff7-1a84-42c9-de08-08725405b2d2"
      },
      "id": "AG-giIac68Wn",
      "execution_count": null,
      "outputs": [
        {
          "output_type": "execute_result",
          "data": {
            "text/plain": [
              "MLPClassifier(alpha=1, hidden_layer_sizes=(5,), random_state=1234,\n",
              "              solver='lbfgs', tol=0.005)"
            ]
          },
          "metadata": {},
          "execution_count": 66
        }
      ]
    },
    {
      "cell_type": "code",
      "execution_count": null,
      "metadata": {
        "hide-output": false,
        "colab": {
          "base_uri": "https://localhost:8080/"
        },
        "id": "NpcBmgVm8pfR",
        "outputId": "5eef77f2-9a11-4f32-bdef-0c36a057f21e"
      },
      "outputs": [
        {
          "output_type": "stream",
          "name": "stdout",
          "text": [
            "{'alpha': 1, 'hidden_layer_sizes': (5,)}\n"
          ]
        }
      ],
      "source": [
        "print(clf.best_params_)"
      ],
      "id": "NpcBmgVm8pfR"
    },
    {
      "cell_type": "code",
      "source": [
        "clf.best_score_"
      ],
      "metadata": {
        "colab": {
          "base_uri": "https://localhost:8080/"
        },
        "id": "ISyAe0jwlCu4",
        "outputId": "7a3c5a74-67b9-4d17-ba54-150274ca380b"
      },
      "id": "ISyAe0jwlCu4",
      "execution_count": null,
      "outputs": [
        {
          "output_type": "execute_result",
          "data": {
            "text/plain": [
              "0.9866666666666667"
            ]
          },
          "metadata": {},
          "execution_count": 68
        }
      ]
    },
    {
      "cell_type": "code",
      "source": [
        "clf.best_index_"
      ],
      "metadata": {
        "colab": {
          "base_uri": "https://localhost:8080/"
        },
        "id": "ZPDZ2-JWlRym",
        "outputId": "792a8e91-90db-4a4c-a166-b02f98b669dc"
      },
      "id": "ZPDZ2-JWlRym",
      "execution_count": null,
      "outputs": [
        {
          "output_type": "execute_result",
          "data": {
            "text/plain": [
              "12"
            ]
          },
          "metadata": {},
          "execution_count": 69
        }
      ]
    },
    {
      "cell_type": "code",
      "execution_count": null,
      "metadata": {
        "hide-output": false,
        "colab": {
          "base_uri": "https://localhost:8080/",
          "height": 412
        },
        "id": "J-p38f3b8pfS",
        "outputId": "ead89ea2-5ff7-42f9-afbf-9048ed880be4"
      },
      "outputs": [
        {
          "output_type": "stream",
          "name": "stderr",
          "text": [
            "/usr/local/lib/python3.7/dist-packages/mpl_toolkits/mplot3d/art3d.py:304: VisibleDeprecationWarning: Creating an ndarray from ragged nested sequences (which is a list-or-tuple of lists-or-tuples-or ndarrays with different lengths or shapes) is deprecated. If you meant to do this, you must specify 'dtype=object' when creating the ndarray.\n",
            "  self._segments3d = np.asanyarray(segments)\n"
          ]
        },
        {
          "output_type": "display_data",
          "data": {
            "text/plain": [
              "<Figure size 576x432 with 1 Axes>"
            ],
            "image/png": "[encoded data removed]"
          },
          "metadata": {
            "needs_background": "light"
          }
        }
      ],
      "source": [
        "n_hidden = np.array([s[0] for s in tuned_parameters['hidden_layer_sizes']])\n",
        "alphas = np.array(tuned_parameters['alpha'])\n",
        "\n",
        "# creating the hyperparameter grid\n",
        "xx, yy = np.meshgrid(n_hidden, alphas)\n",
        "scores = clf.cv_results_['mean_test_score'].reshape(xx.shape)\n",
        "\n",
        "# wireframe display of the results of the evaluated models\n",
        "from mpl_toolkits.mplot3d import Axes3D\n",
        "fig = plt.figure(figsize=(8, 6))\n",
        "ax = plt.axes(projection='3d')\n",
        "ax.set_xlabel(\"Hidden neurons\")\n",
        "ax.set_ylabel(\"Regularization $\\\\alpha$\")\n",
        "ax.set_zlabel(\"Good classification rate\")\n",
        "ax.plot_wireframe(xx, yy, scores)\n",
        "plt.show()"
      ],
      "id": "J-p38f3b8pfS"
    },
    {
      "cell_type": "markdown",
      "source": [],
      "metadata": {
        "id": "LB58CqwqOzod"
      },
      "id": "LB58CqwqOzod"
    },
    {
      "cell_type": "code",
      "source": [
        "clf.cv_results_"
      ],
      "metadata": {
        "colab": {
          "base_uri": "https://localhost:8080/"
        },
        "id": "2VgbtfBc5V9X",
        "outputId": "6434ecf2-dd57-4147-a76e-2ddbe4252e22"
      },
      "id": "2VgbtfBc5V9X",
      "execution_count": null,
      "outputs": [
        {
          "output_type": "execute_result",
          "data": {
            "text/plain": [
              "{'mean_fit_time': array([0.04321294, 0.04093037, 0.02865014, 0.02780337, 0.03670063,\n",
              "        0.06375337, 0.03162689, 0.03299522, 0.02389526, 0.03934736,\n",
              "        0.03882723, 0.04468102, 0.03037767, 0.0325211 , 0.04066868,\n",
              "        0.05035667, 0.05829101, 0.05925889, 0.0306211 , 0.03477807,\n",
              "        0.04555917, 0.057195  , 0.07507701, 0.07311749]),\n",
              " 'std_fit_time': array([0.01671651, 0.02501756, 0.01938171, 0.00692712, 0.01654435,\n",
              "        0.00815685, 0.00640572, 0.02887935, 0.00852419, 0.01950973,\n",
              "        0.01674036, 0.01682015, 0.00243779, 0.00989008, 0.00564933,\n",
              "        0.00992415, 0.01952252, 0.01526205, 0.00296777, 0.00342427,\n",
              "        0.00459079, 0.00683723, 0.00677251, 0.00484552]),\n",
              " 'mean_score_time': array([0.00082369, 0.00086794, 0.000631  , 0.00063624, 0.00066423,\n",
              "        0.00086417, 0.00078511, 0.00058556, 0.00057964, 0.00057454,\n",
              "        0.00073624, 0.00086265, 0.00054536, 0.00049253, 0.0005271 ,\n",
              "        0.00050635, 0.00050626, 0.0006464 , 0.00072041, 0.00058002,\n",
              "        0.00058579, 0.0006012 , 0.00059934, 0.00066118]),\n",
              " 'std_score_time': array([1.81131602e-05, 1.69103157e-05, 1.06667161e-04, 9.14617424e-05,\n",
              "        8.67594694e-05, 1.46091622e-04, 2.82885427e-05, 5.18694948e-05,\n",
              "        1.24411557e-05, 2.68918402e-05, 1.74593390e-04, 1.98263271e-04,\n",
              "        4.80787130e-05, 1.80710588e-05, 7.70955001e-05, 1.84766862e-05,\n",
              "        3.19374124e-06, 2.54942493e-05, 2.67481446e-04, 2.59670123e-05,\n",
              "        1.12112518e-05, 2.71146397e-05, 2.18271656e-05, 5.93612278e-05]),\n",
              " 'param_alpha': masked_array(data=[0.001, 0.001, 0.001, 0.001, 0.001, 0.001, 0.01, 0.01,\n",
              "                    0.01, 0.01, 0.01, 0.01, 1, 1, 1, 1, 1, 1, 2, 2, 2, 2,\n",
              "                    2, 2],\n",
              "              mask=[False, False, False, False, False, False, False, False,\n",
              "                    False, False, False, False, False, False, False, False,\n",
              "                    False, False, False, False, False, False, False, False],\n",
              "        fill_value='?',\n",
              "             dtype=object),\n",
              " 'param_hidden_layer_sizes': masked_array(data=[(5,), (20,), (50,), (100,), (150,), (200,), (5,),\n",
              "                    (20,), (50,), (100,), (150,), (200,), (5,), (20,),\n",
              "                    (50,), (100,), (150,), (200,), (5,), (20,), (50,),\n",
              "                    (100,), (150,), (200,)],\n",
              "              mask=[False, False, False, False, False, False, False, False,\n",
              "                    False, False, False, False, False, False, False, False,\n",
              "                    False, False, False, False, False, False, False, False],\n",
              "        fill_value='?',\n",
              "             dtype=object),\n",
              " 'params': [{'alpha': 0.001, 'hidden_layer_sizes': (5,)},\n",
              "  {'alpha': 0.001, 'hidden_layer_sizes': (20,)},\n",
              "  {'alpha': 0.001, 'hidden_layer_sizes': (50,)},\n",
              "  {'alpha': 0.001, 'hidden_layer_sizes': (100,)},\n",
              "  {'alpha': 0.001, 'hidden_layer_sizes': (150,)},\n",
              "  {'alpha': 0.001, 'hidden_layer_sizes': (200,)},\n",
              "  {'alpha': 0.01, 'hidden_layer_sizes': (5,)},\n",
              "  {'alpha': 0.01, 'hidden_layer_sizes': (20,)},\n",
              "  {'alpha': 0.01, 'hidden_layer_sizes': (50,)},\n",
              "  {'alpha': 0.01, 'hidden_layer_sizes': (100,)},\n",
              "  {'alpha': 0.01, 'hidden_layer_sizes': (150,)},\n",
              "  {'alpha': 0.01, 'hidden_layer_sizes': (200,)},\n",
              "  {'alpha': 1, 'hidden_layer_sizes': (5,)},\n",
              "  {'alpha': 1, 'hidden_layer_sizes': (20,)},\n",
              "  {'alpha': 1, 'hidden_layer_sizes': (50,)},\n",
              "  {'alpha': 1, 'hidden_layer_sizes': (100,)},\n",
              "  {'alpha': 1, 'hidden_layer_sizes': (150,)},\n",
              "  {'alpha': 1, 'hidden_layer_sizes': (200,)},\n",
              "  {'alpha': 2, 'hidden_layer_sizes': (5,)},\n",
              "  {'alpha': 2, 'hidden_layer_sizes': (20,)},\n",
              "  {'alpha': 2, 'hidden_layer_sizes': (50,)},\n",
              "  {'alpha': 2, 'hidden_layer_sizes': (100,)},\n",
              "  {'alpha': 2, 'hidden_layer_sizes': (150,)},\n",
              "  {'alpha': 2, 'hidden_layer_sizes': (200,)}],\n",
              " 'split0_test_score': array([1.        , 1.        , 1.        , 1.        , 1.        ,\n",
              "        0.93333333, 1.        , 1.        , 1.        , 1.        ,\n",
              "        1.        , 1.        , 1.        , 1.        , 1.        ,\n",
              "        1.        , 1.        , 1.        , 0.93333333, 0.93333333,\n",
              "        1.        , 0.93333333, 0.93333333, 0.93333333]),\n",
              " 'split1_test_score': array([1.        , 1.        , 1.        , 1.        , 1.        ,\n",
              "        0.93333333, 1.        , 1.        , 1.        , 1.        ,\n",
              "        1.        , 1.        , 1.        , 1.        , 1.        ,\n",
              "        1.        , 1.        , 1.        , 1.        , 1.        ,\n",
              "        1.        , 1.        , 1.        , 1.        ]),\n",
              " 'split2_test_score': array([0.93333333, 0.93333333, 0.93333333, 0.93333333, 0.93333333,\n",
              "        0.93333333, 0.93333333, 0.93333333, 0.93333333, 0.93333333,\n",
              "        0.93333333, 0.93333333, 1.        , 1.        , 1.        ,\n",
              "        1.        , 1.        , 1.        , 1.        , 1.        ,\n",
              "        1.        , 1.        , 1.        , 1.        ]),\n",
              " 'split3_test_score': array([0.93333333, 1.        , 1.        , 0.93333333, 1.        ,\n",
              "        0.93333333, 0.93333333, 1.        , 1.        , 1.        ,\n",
              "        0.93333333, 1.        , 1.        , 1.        , 1.        ,\n",
              "        1.        , 1.        , 1.        , 1.        , 1.        ,\n",
              "        1.        , 1.        , 1.        , 1.        ]),\n",
              " 'split4_test_score': array([0.93333333, 0.93333333, 0.93333333, 0.93333333, 0.93333333,\n",
              "        0.93333333, 0.93333333, 0.93333333, 0.93333333, 0.93333333,\n",
              "        0.93333333, 0.93333333, 0.93333333, 0.93333333, 0.93333333,\n",
              "        0.93333333, 0.93333333, 0.93333333, 0.93333333, 0.93333333,\n",
              "        0.93333333, 0.93333333, 0.93333333, 0.93333333]),\n",
              " 'mean_test_score': array([0.96      , 0.97333333, 0.97333333, 0.96      , 0.97333333,\n",
              "        0.93333333, 0.96      , 0.97333333, 0.97333333, 0.97333333,\n",
              "        0.96      , 0.97333333, 0.98666667, 0.98666667, 0.98666667,\n",
              "        0.98666667, 0.98666667, 0.98666667, 0.97333333, 0.97333333,\n",
              "        0.98666667, 0.97333333, 0.97333333, 0.97333333]),\n",
              " 'std_test_score': array([0.03265986, 0.03265986, 0.03265986, 0.03265986, 0.03265986,\n",
              "        0.        , 0.03265986, 0.03265986, 0.03265986, 0.03265986,\n",
              "        0.03265986, 0.03265986, 0.02666667, 0.02666667, 0.02666667,\n",
              "        0.02666667, 0.02666667, 0.02666667, 0.03265986, 0.03265986,\n",
              "        0.02666667, 0.03265986, 0.03265986, 0.03265986]),\n",
              " 'rank_test_score': array([20,  8,  8, 20,  8, 24, 20,  8,  8,  8, 20,  8,  1,  1,  1,  1,  1,\n",
              "         1,  8,  8,  1,  8,  8,  8], dtype=int32)}"
            ]
          },
          "metadata": {},
          "execution_count": 70
        }
      ]
    },
    {
      "cell_type": "markdown",
      "source": [
        "## **Evaluatinge the selected model on the test data (X_test, y_test).**"
      ],
      "metadata": {
        "id": "oZ_jsAWTzxR-"
      },
      "id": "oZ_jsAWTzxR-"
    },
    {
      "cell_type": "code",
      "source": [
        "print(\"The score on training set: {:.2f}% \\n\".format((clf.score\n",
        "                                                      (X_train, y_train))*100))\n",
        "print(\"The score on test set: {:.2f}%\\n\".format((clf.score(X_test, y_test))*100))\n",
        "print(\"Best Parameters: \")\n",
        "print(clf.best_params_)\n",
        "\n",
        " # Alternately using cv_results_\n",
        "\n",
        "print(clf.cv_results_['mean_test_score'])\n",
        "\n",
        "print(f\" max of mean_test_score is:  {max(clf.cv_results_['mean_test_score'])}\")\n",
        "   "
      ],
      "metadata": {
        "colab": {
          "base_uri": "https://localhost:8080/"
        },
        "id": "LStXbfh3udGw",
        "outputId": "f8e61ce1-8089-4e85-8e73-e901de1033ce"
      },
      "id": "LStXbfh3udGw",
      "execution_count": null,
      "outputs": [
        {
          "output_type": "stream",
          "name": "stdout",
          "text": [
            "The score on training set: 98.67% \n",
            "\n",
            "The score on test set: 98.67%\n",
            "\n",
            "Best Parameters: \n",
            "{'alpha': 1, 'hidden_layer_sizes': (5,)}\n",
            "[0.96       0.97333333 0.97333333 0.96       0.97333333 0.93333333\n",
            " 0.96       0.97333333 0.97333333 0.97333333 0.96       0.97333333\n",
            " 0.98666667 0.98666667 0.98666667 0.98666667 0.98666667 0.98666667\n",
            " 0.97333333 0.97333333 0.98666667 0.97333333 0.97333333 0.97333333]\n",
            " max of mean_test_score is:   0.9866666666666667\n"
          ]
        }
      ]
    },
    {
      "cell_type": "markdown",
      "source": [
        "**Editing the grid and review the new results.**"
      ],
      "metadata": {
        "id": "A5U01cQi6BSY"
      },
      "id": "A5U01cQi6BSY"
    },
    {
      "cell_type": "code",
      "source": [
        "tuned_parameters = {'hidden_layer_sizes':[(5,7), (20,22), (50,65), (100,110), \n",
        "                                          (150,160), (200,300)],\n",
        "                    'alpha':   [0.0001,0.001, 0.01, 1, 2,4,],'max_iter'\n",
        "                    :[300,350,400,500]\n",
        "                   ,'activation':['relu','logestic', 'identity','tanh']\n",
        "                   }\n",
        "#'learning_rate_init':[0.01,0.02,0.03,0.08,0.09,0.1]\n",
        "clf = GridSearchCV(MLPClassifier( random_state=333,solver='lbfgs', tol=5e-3),\n",
        "                   tuned_parameters,refit=True, cv=5)\n",
        "\n",
        "# grid search execution\n",
        "clf.fit(X_train, y_train)"
      ],
      "metadata": {
        "id": "yD8jL0eO258d"
      },
      "id": "yD8jL0eO258d",
      "execution_count": null,
      "outputs": []
    },
    {
      "cell_type": "code",
      "source": [
        "print(f\" the best estimator of model is:  {clf.best_estimator_}\")\n",
        "print(f\" the best score of model is:  {clf.best_score_}\")\n",
        "print(f\" the best parameter of model is:  {clf.best_params_}\")\n",
        "print(f\" max of mean_test_score is:   {max(clf.cv_results_['mean_test_score'])}\")\n"
      ],
      "metadata": {
        "colab": {
          "base_uri": "https://localhost:8080/"
        },
        "id": "P0gL3V-A9CU7",
        "outputId": "d414f745-cf18-4ea0-c669-bf1b4ddeafd6"
      },
      "id": "P0gL3V-A9CU7",
      "execution_count": null,
      "outputs": [
        {
          "output_type": "stream",
          "name": "stdout",
          "text": [
            " the best estimator of model is:  MLPClassifier(hidden_layer_sizes=(20, 22), max_iter=300, random_state=333,\n",
            "              solver='lbfgs', tol=0.005)\n",
            " the best score of model is:  0.9866666666666667\n",
            " the best parameter of model is:  {'activation': 'relu', 'alpha': 0.0001, 'hidden_layer_sizes': (20, 22), 'max_iter': 300}\n",
            " max of mean_test_score is:   0.9866666666666667\n"
          ]
        }
      ]
    },
    {
      "cell_type": "code",
      "source": [],
      "metadata": {
        "id": "pilyd-GZENAm"
      },
      "id": "pilyd-GZENAm",
      "execution_count": null,
      "outputs": []
    },
    {
      "cell_type": "markdown",
      "source": [
        "# ** randomized search with RandomizedSearchCV.**"
      ],
      "metadata": {
        "id": "qaMfZofGIpJr"
      },
      "id": "qaMfZofGIpJr"
    },
    {
      "cell_type": "code",
      "source": [
        "parameters = {'hidden_layer_sizes':[(5,), (20,), (50,), (100,), (150,), (200,)],\n",
        "                    'alpha':   [0.001, 0.01, 1, 2]}"
      ],
      "metadata": {
        "id": "Vg0emS75ELrX"
      },
      "id": "Vg0emS75ELrX",
      "execution_count": null,
      "outputs": []
    },
    {
      "cell_type": "code",
      "source": [
        "from sklearn.model_selection import RandomizedSearchCV\n",
        "clf = RandomizedSearchCV(MLPClassifier( random_state=333,solver='lbfgs',\n",
        "  tol=5e-3), parameters, n_iter=100, cv=5, refit=True,n_jobs=-1, random_state=1)\n",
        "\n",
        "# train the random search meta-estimator to find the best model\n",
        "clf.fit(X_train, y_train)\n",
        "\n",
        "# print winning set of hyperparameters\n",
        "print(\" Results from Random Search \" )\n",
        "print(\"\\n The best estimator across ALL searched params:\\n\", clf.best_estimator_)\n",
        "print(\"\\n The best score across ALL searched params:\\n\", clf.best_score_)\n",
        "print(\"\\n The best parameters across ALL searched params:\\n\", clf.best_params_)"
      ],
      "metadata": {
        "colab": {
          "base_uri": "https://localhost:8080/"
        },
        "id": "UIcGgy_bIdVp",
        "outputId": "7720fb10-22f3-4b43-ac6a-29d4a4c2489d"
      },
      "id": "UIcGgy_bIdVp",
      "execution_count": null,
      "outputs": [
        {
          "output_type": "stream",
          "name": "stderr",
          "text": [
            "/usr/local/lib/python3.7/dist-packages/sklearn/model_selection/_search.py:296: UserWarning: The total space of parameters 24 is smaller than n_iter=100. Running 24 iterations. For exhaustive searches, use GridSearchCV.\n",
            "  UserWarning,\n"
          ]
        },
        {
          "output_type": "stream",
          "name": "stdout",
          "text": [
            " Results from Random Search \n",
            "\n",
            " The best estimator across ALL searched params:\n",
            " MLPClassifier(alpha=1, hidden_layer_sizes=(20,), random_state=333,\n",
            "              solver='lbfgs', tol=0.005)\n",
            "\n",
            " The best score across ALL searched params:\n",
            " 0.9866666666666667\n",
            "\n",
            " The best parameters across ALL searched params:\n",
            " {'hidden_layer_sizes': (20,), 'alpha': 1}\n"
          ]
        }
      ]
    },
    {
      "cell_type": "markdown",
      "source": [
        "# Randomized search on hyper parameters.\n",
        "\n",
        "# RandomizedSearchCV implements a “fit” and a “score” method. It also implements “score_samples”, “predict”, “predict_proba”, “decision_function”, “transform” and “inverse_transform” if they are implemented in the estimator used.\n",
        "\n",
        "# The parameters of the estimator used to apply these methods are optimized by cross-validated search over parameter settings.\n",
        "\n",
        "# In contrast to GridSearchCV, not all parameter values are tried out, but rather a fixed number of parameter settings is sampled from the specified distributions. The number of parameter settings that are tried is given by n_iter.\n",
        "\n",
        "# If all parameters are presented as a list, sampling without replacement is performed. If at least one parameter is given as a distribution, sampling with replacement is used. It is highly recommended to use continuous distributions for continuous parameters."
      ],
      "metadata": {
        "id": "Tn9ccq70LzNX"
      },
      "id": "Tn9ccq70LzNX"
    },
    {
      "cell_type": "markdown",
      "source": [
        "#** The most efficient way to find an optimal set of hyperparameters for a machine learning model is to use random search. The randomized search meta-estimator is an algorithm that trains and evaluates a series of models by taking random draws from a predetermined set of hyperparameter distributions. The algorithm picks the most successful version of the model it’s seen after training N different versions of the model with different randomly selected hyperparameter combinations, leaving you with a model trained on a near-optimal set of hyperparameters. Note that random search is called a meta-estimator because it’s not an estimator in itself, but rather an algorithm applied to an existing estimator in order to tune the estimator’s hyperparameters.**\n",
        "\n",
        "# This method has an advantage over grid search in that the algorithm searches over distributions of parameter values rather than predetermined lists of candidate values for each hyperparameter. Being able to search over hyperparameter distributions also allows you to be more opinionated about what you expect a hyperparameter’s best value to be; if you want to draw values from a distribution that is normally, poisson, uniformly distributed, etc., you can specify it as such.\n",
        "\n",
        "# Random search is usually used in tandem with cross validation to achieve a more reliable estimate of what each candidate model’s out of sample performance will be."
      ],
      "metadata": {
        "id": "5eAVGwOvQH71"
      },
      "id": "5eAVGwOvQH71"
    },
    {
      "cell_type": "markdown",
      "source": [
        "# **Question 11: Experiment with HalvingGridSearchCV.**"
      ],
      "metadata": {
        "id": "8ehBozHSM5zO"
      },
      "id": "8ehBozHSM5zO"
    },
    {
      "cell_type": "code",
      "source": [
        "parameters = {'hidden_layer_sizes':[(5,), (20,), (50,), (100,), (150,), (200,)],\n",
        "                    'alpha':   [0.001, 0.01, 1, 2]}\n",
        "from sklearn.experimental import enable_halving_search_cv\n",
        "from sklearn.model_selection import HalvingGridSearchCV\n",
        "clf = HalvingGridSearchCV(MLPClassifier( random_state=1234,solver='lbfgs',\n",
        "                        tol=5e-3), parameters, cv=5, n_jobs=-1, random_state=1)\n",
        "\n",
        "# train the random search meta-estimator to find the best model\n",
        "clf.fit(X_train, y_train)\n",
        "\n",
        "# print winning set of hyperparameters\n",
        "print(\" Results from Random Search \" )\n",
        "print(\"\\n The best estimator across ALL searched params:\\n\", clf.best_estimator_)\n",
        "print(\"\\n The best score across ALL searched params:\\n\", clf.best_score_)\n",
        "print(\"\\n The best parameters across ALL searched params:\\n\", clf.best_params_)"
      ],
      "metadata": {
        "colab": {
          "base_uri": "https://localhost:8080/"
        },
        "id": "jBybrBUSTHlr",
        "outputId": "91727326-aaf8-4ebe-c610-4475fc5d03b5"
      },
      "id": "jBybrBUSTHlr",
      "execution_count": null,
      "outputs": [
        {
          "output_type": "stream",
          "name": "stdout",
          "text": [
            " Results from Random Search \n",
            "\n",
            " The best estimator across ALL searched params:\n",
            " MLPClassifier(alpha=0.001, hidden_layer_sizes=(20,), random_state=1234,\n",
            "              solver='lbfgs', tol=0.005)\n",
            "\n",
            " The best score across ALL searched params:\n",
            " 0.9666666666666666\n",
            "\n",
            " The best parameters across ALL searched params:\n",
            " {'alpha': 0.001, 'hidden_layer_sizes': (20,)}\n"
          ]
        }
      ]
    },
    {
      "cell_type": "markdown",
      "source": [
        "#  \n",
        "# **According above code the HalvingGridSearchCV  is able to find parameter combinations that are just as accurate as GridSearchCV score =0.966, in much less time. **"
      ],
      "metadata": {
        "id": "Eq90Ws7q3wqX"
      },
      "id": "Eq90Ws7q3wqX"
    }
  ],
  "metadata": {
    "date": 1665071718.7304082,
    "filename": "",
    "kernelspec": {
      "display_name": "Python 3",
      "language": "python",
      "name": "python3"
    },
    "language_info": {
      "codemirror_mode": {
        "name": "ipython",
        "version": 3
      },
      "file_extension": ".py",
      "mimetype": "text/x-python",
      "name": "python",
      "nbconvert_exporter": "python",
      "pygments_lexer": "ipython3",
      "version": "3.7.4"
    },
    "title": "Assignment 2: Evaluation and selection of decision models",
    "colab": {
      "provenance": [],
      "collapsed_sections": [
        "oTvAE7Savw5J",
        "Vr9PnjuuLndL"
      ]
    }
  },
  "nbformat": 4,
  "nbformat_minor": 5
}